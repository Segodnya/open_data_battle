{
  "nbformat": 4,
  "nbformat_minor": 5,
  "metadata": {
    "kernelspec": {
      "display_name": "Python 3",
      "language": "python",
      "name": "python3"
    },
    "language_info": {
      "codemirror_mode": {
        "name": "ipython",
        "version": 3
      },
      "file_extension": ".py",
      "mimetype": "text/x-python",
      "name": "python",
      "nbconvert_exporter": "python",
      "pygments_lexer": "ipython3",
      "version": "3.8.8"
    },
    "colab": {
      "name": "salary.ipynb",
      "provenance": [],
      "collapsed_sections": []
    }
  },
  "cells": [
    {
      "cell_type": "code",
      "metadata": {
        "colab": {
          "base_uri": "https://localhost:8080/"
        },
        "id": "6753633e-1908-4dc9-81c7-e534d264d821",
        "outputId": "407d28fe-083a-4dfd-eaef-178bd9f9111b"
      },
      "source": [
        "import json\n",
        "import numpy as np\n",
        "from google.colab import drive\n",
        "drive.mount('/drive')\n",
        "\n",
        "x_train = np.load('/drive/My Drive/salary/inputs.npy')\n",
        "y_train = np.load('/drive/My Drive/salary/outputs.npy')\n",
        "\n",
        "\n",
        "import tensorflow as tf\n",
        "from tensorflow.keras.models import Sequential, Model\n",
        "from tensorflow.keras.layers import Dense, Dropout, BatchNormalization\n",
        "import matplotlib.pyplot as plt\n",
        "\n",
        "\n",
        "# Model\n",
        "class myModel(object):\n",
        "    def __init__(self):\n",
        "        self.W = tf.Variable(5.0)\n",
        "        self.b = tf.Variable(10.0)\n",
        "        \n",
        "    def __call__(self, x):\n",
        "        return self.W * x + self.b\n",
        "\n",
        "\n",
        "model = myModel()\n",
        "\n",
        "# Loss\n",
        "def loss(target_y, predicted_y):\n",
        "    return tf.reduce_mean(tf.square(target_y - predicted_y))\n",
        "\n",
        "\n",
        "def plot_history(history):\n",
        "    plt.plot(history.history['loss'], \n",
        "            label='Средняя ошибка на обучающем наборе')\n",
        "    plt.plot(history.history['val_loss'], \n",
        "            label='Средняя ошибка на проверочном наборе')\n",
        "    plt.xlabel('Эпоха обучения')\n",
        "    plt.ylabel('Средняя ошибка')\n",
        "    plt.legend()\n",
        "    plt.show()\n",
        "\n",
        "\n",
        "print('Current loss: %1.6f' % loss(model(x_train), y_train).numpy())"
      ],
      "id": "6753633e-1908-4dc9-81c7-e534d264d821",
      "execution_count": 1,
      "outputs": [
        {
          "output_type": "stream",
          "name": "stdout",
          "text": [
            "Drive already mounted at /drive; to attempt to forcibly remount, call drive.mount(\"/drive\", force_remount=True).\n",
            "Current loss: 64.425949\n"
          ]
        }
      ]
    },
    {
      "cell_type": "code",
      "metadata": {
        "id": "WVtrgPKGQ6ko",
        "colab": {
          "base_uri": "https://localhost:8080/",
          "height": 1000
        },
        "outputId": "1cbbc3d0-0616-49c3-ffd5-23bdedbab49e"
      },
      "source": [
        "model = Sequential()\n",
        "model.add(Dense(10, input_dim=1, activation='linear'))\n",
        "model.add(Dense(1, activation='linear'))\n",
        "\n",
        "model.compile(optimizer='adam', loss='mse', metrics=['mae'])\n",
        "\n",
        "history = model.fit(x_train, \n",
        "                    y_train, \n",
        "                    epochs=50, \n",
        "                    validation_split=0.05, \n",
        "                    verbose=1)\n",
        "\n",
        "plot_history(history)"
      ],
      "id": "WVtrgPKGQ6ko",
      "execution_count": 2,
      "outputs": [
        {
          "output_type": "stream",
          "name": "stdout",
          "text": [
            "Epoch 1/50\n",
            "30/30 [==============================] - 1s 7ms/step - loss: 37.2664 - mae: 4.8913 - val_loss: 25.1354 - val_mae: 3.8966\n",
            "Epoch 2/50\n",
            "30/30 [==============================] - 0s 2ms/step - loss: 34.1283 - mae: 4.6783 - val_loss: 22.9913 - val_mae: 3.7389\n",
            "Epoch 3/50\n",
            "30/30 [==============================] - 0s 2ms/step - loss: 31.0608 - mae: 4.4660 - val_loss: 20.9583 - val_mae: 3.5816\n",
            "Epoch 4/50\n",
            "30/30 [==============================] - 0s 2ms/step - loss: 28.1342 - mae: 4.2476 - val_loss: 18.9563 - val_mae: 3.4175\n",
            "Epoch 5/50\n",
            "30/30 [==============================] - 0s 2ms/step - loss: 25.2844 - mae: 4.0252 - val_loss: 17.0200 - val_mae: 3.2499\n",
            "Epoch 6/50\n",
            "30/30 [==============================] - 0s 2ms/step - loss: 22.6002 - mae: 3.8003 - val_loss: 15.1426 - val_mae: 3.0783\n",
            "Epoch 7/50\n",
            "30/30 [==============================] - 0s 2ms/step - loss: 19.9844 - mae: 3.5741 - val_loss: 13.4089 - val_mae: 2.9120\n",
            "Epoch 8/50\n",
            "30/30 [==============================] - 0s 2ms/step - loss: 17.5280 - mae: 3.3493 - val_loss: 11.7716 - val_mae: 2.7444\n",
            "Epoch 9/50\n",
            "30/30 [==============================] - 0s 2ms/step - loss: 15.2422 - mae: 3.1210 - val_loss: 10.1966 - val_mae: 2.5671\n",
            "Epoch 10/50\n",
            "30/30 [==============================] - 0s 2ms/step - loss: 13.0750 - mae: 2.8935 - val_loss: 8.7935 - val_mae: 2.3947\n",
            "Epoch 11/50\n",
            "30/30 [==============================] - 0s 2ms/step - loss: 11.1399 - mae: 2.6706 - val_loss: 7.4746 - val_mae: 2.2157\n",
            "Epoch 12/50\n",
            "30/30 [==============================] - 0s 2ms/step - loss: 9.3595 - mae: 2.4463 - val_loss: 6.3289 - val_mae: 2.0425\n",
            "Epoch 13/50\n",
            "30/30 [==============================] - 0s 2ms/step - loss: 7.8151 - mae: 2.2362 - val_loss: 5.3033 - val_mae: 1.8693\n",
            "Epoch 14/50\n",
            "30/30 [==============================] - 0s 2ms/step - loss: 6.4638 - mae: 2.0370 - val_loss: 4.4199 - val_mae: 1.7033\n",
            "Epoch 15/50\n",
            "30/30 [==============================] - 0s 2ms/step - loss: 5.3138 - mae: 1.8486 - val_loss: 3.6725 - val_mae: 1.5472\n",
            "Epoch 16/50\n",
            "30/30 [==============================] - 0s 2ms/step - loss: 4.3717 - mae: 1.6754 - val_loss: 3.0217 - val_mae: 1.3989\n",
            "Epoch 17/50\n",
            "30/30 [==============================] - 0s 2ms/step - loss: 3.5721 - mae: 1.5166 - val_loss: 2.5133 - val_mae: 1.2748\n",
            "Epoch 18/50\n",
            "30/30 [==============================] - 0s 2ms/step - loss: 2.9464 - mae: 1.3784 - val_loss: 2.0935 - val_mae: 1.1583\n",
            "Epoch 19/50\n",
            "30/30 [==============================] - 0s 2ms/step - loss: 2.4456 - mae: 1.2553 - val_loss: 1.7598 - val_mae: 1.0588\n",
            "Epoch 20/50\n",
            "30/30 [==============================] - 0s 2ms/step - loss: 2.0599 - mae: 1.1522 - val_loss: 1.4919 - val_mae: 0.9695\n",
            "Epoch 21/50\n",
            "30/30 [==============================] - 0s 2ms/step - loss: 1.7613 - mae: 1.0669 - val_loss: 1.2980 - val_mae: 0.9024\n",
            "Epoch 22/50\n",
            "30/30 [==============================] - 0s 3ms/step - loss: 1.5448 - mae: 1.0018 - val_loss: 1.1495 - val_mae: 0.8452\n",
            "Epoch 23/50\n",
            "30/30 [==============================] - 0s 2ms/step - loss: 1.3858 - mae: 0.9509 - val_loss: 1.0421 - val_mae: 0.8075\n",
            "Epoch 24/50\n",
            "30/30 [==============================] - 0s 2ms/step - loss: 1.2729 - mae: 0.9145 - val_loss: 0.9655 - val_mae: 0.7802\n",
            "Epoch 25/50\n",
            "30/30 [==============================] - 0s 2ms/step - loss: 1.1966 - mae: 0.8860 - val_loss: 0.9104 - val_mae: 0.7581\n",
            "Epoch 26/50\n",
            "30/30 [==============================] - 0s 2ms/step - loss: 1.1432 - mae: 0.8667 - val_loss: 0.8776 - val_mae: 0.7444\n",
            "Epoch 27/50\n",
            "30/30 [==============================] - 0s 2ms/step - loss: 1.1094 - mae: 0.8551 - val_loss: 0.8502 - val_mae: 0.7320\n",
            "Epoch 28/50\n",
            "30/30 [==============================] - 0s 2ms/step - loss: 1.0873 - mae: 0.8460 - val_loss: 0.8360 - val_mae: 0.7228\n",
            "Epoch 29/50\n",
            "30/30 [==============================] - 0s 2ms/step - loss: 1.0729 - mae: 0.8413 - val_loss: 0.8261 - val_mae: 0.7168\n",
            "Epoch 30/50\n",
            "30/30 [==============================] - 0s 2ms/step - loss: 1.0644 - mae: 0.8377 - val_loss: 0.8203 - val_mae: 0.7139\n",
            "Epoch 31/50\n",
            "30/30 [==============================] - 0s 2ms/step - loss: 1.0591 - mae: 0.8352 - val_loss: 0.8160 - val_mae: 0.7122\n",
            "Epoch 32/50\n",
            "30/30 [==============================] - 0s 2ms/step - loss: 1.0561 - mae: 0.8341 - val_loss: 0.8126 - val_mae: 0.7107\n",
            "Epoch 33/50\n",
            "30/30 [==============================] - 0s 2ms/step - loss: 1.0543 - mae: 0.8334 - val_loss: 0.8106 - val_mae: 0.7096\n",
            "Epoch 34/50\n",
            "30/30 [==============================] - 0s 2ms/step - loss: 1.0537 - mae: 0.8330 - val_loss: 0.8126 - val_mae: 0.7090\n",
            "Epoch 35/50\n",
            "30/30 [==============================] - 0s 2ms/step - loss: 1.0526 - mae: 0.8328 - val_loss: 0.8083 - val_mae: 0.7082\n",
            "Epoch 36/50\n",
            "30/30 [==============================] - 0s 2ms/step - loss: 1.0525 - mae: 0.8326 - val_loss: 0.8089 - val_mae: 0.7076\n",
            "Epoch 37/50\n",
            "30/30 [==============================] - 0s 2ms/step - loss: 1.0520 - mae: 0.8325 - val_loss: 0.8083 - val_mae: 0.7076\n",
            "Epoch 38/50\n",
            "30/30 [==============================] - 0s 2ms/step - loss: 1.0523 - mae: 0.8326 - val_loss: 0.8076 - val_mae: 0.7072\n",
            "Epoch 39/50\n",
            "30/30 [==============================] - 0s 2ms/step - loss: 1.0520 - mae: 0.8324 - val_loss: 0.8085 - val_mae: 0.7069\n",
            "Epoch 40/50\n",
            "30/30 [==============================] - 0s 2ms/step - loss: 1.0518 - mae: 0.8324 - val_loss: 0.8097 - val_mae: 0.7070\n",
            "Epoch 41/50\n",
            "30/30 [==============================] - 0s 2ms/step - loss: 1.0523 - mae: 0.8325 - val_loss: 0.8093 - val_mae: 0.7069\n",
            "Epoch 42/50\n",
            "30/30 [==============================] - 0s 2ms/step - loss: 1.0524 - mae: 0.8328 - val_loss: 0.8089 - val_mae: 0.7070\n",
            "Epoch 43/50\n",
            "30/30 [==============================] - 0s 2ms/step - loss: 1.0520 - mae: 0.8324 - val_loss: 0.8091 - val_mae: 0.7065\n",
            "Epoch 44/50\n",
            "30/30 [==============================] - 0s 2ms/step - loss: 1.0520 - mae: 0.8326 - val_loss: 0.8090 - val_mae: 0.7068\n",
            "Epoch 45/50\n",
            "30/30 [==============================] - 0s 3ms/step - loss: 1.0521 - mae: 0.8326 - val_loss: 0.8113 - val_mae: 0.7068\n",
            "Epoch 46/50\n",
            "30/30 [==============================] - 0s 2ms/step - loss: 1.0530 - mae: 0.8330 - val_loss: 0.8055 - val_mae: 0.7062\n",
            "Epoch 47/50\n",
            "30/30 [==============================] - 0s 2ms/step - loss: 1.0533 - mae: 0.8336 - val_loss: 0.8126 - val_mae: 0.7069\n",
            "Epoch 48/50\n",
            "30/30 [==============================] - 0s 2ms/step - loss: 1.0525 - mae: 0.8326 - val_loss: 0.8085 - val_mae: 0.7067\n",
            "Epoch 49/50\n",
            "30/30 [==============================] - 0s 2ms/step - loss: 1.0519 - mae: 0.8323 - val_loss: 0.8115 - val_mae: 0.7066\n",
            "Epoch 50/50\n",
            "30/30 [==============================] - 0s 2ms/step - loss: 1.0519 - mae: 0.8325 - val_loss: 0.8089 - val_mae: 0.7064\n"
          ]
        },
        {
          "output_type": "display_data",
          "data": {
            "image/png": "[encoded data removed]",
            "text/plain": [
              "<Figure size 432x288 with 1 Axes>"
            ]
          },
          "metadata": {
            "needs_background": "light"
          }
        }
      ]
    },
    {
      "cell_type": "code",
      "metadata": {
        "colab": {
          "base_uri": "https://localhost:8080/"
        },
        "id": "pTZvd20id8KS",
        "outputId": "ce3bcf05-4626-403b-b86c-fba04ea3c0e5"
      },
      "source": [
        "pred = model.predict([1, 2, 3, 4, 5])\n",
        "pred = np.around(pred)\n",
        "pred"
      ],
      "id": "pTZvd20id8KS",
      "execution_count": 3,
      "outputs": [
        {
          "output_type": "execute_result",
          "data": {
            "text/plain": [
              "array([[ 8.],\n",
              "       [14.],\n",
              "       [20.],\n",
              "       [26.],\n",
              "       [32.]], dtype=float32)"
            ]
          },
          "metadata": {},
          "execution_count": 3
        }
      ]
    },
    {
      "cell_type": "code",
      "metadata": {
        "colab": {
          "base_uri": "https://localhost:8080/"
        },
        "id": "MI5jS6KPeb7z",
        "outputId": "288c25e0-6580-432d-e696-9522f3b5456d"
      },
      "source": [
        "answer = {\"answer\":pred[:,0].astype(str).tolist()}\n",
        "jsonStr = json.dumps(answer)\n",
        "print(jsonStr)"
      ],
      "id": "MI5jS6KPeb7z",
      "execution_count": 4,
      "outputs": [
        {
          "output_type": "stream",
          "name": "stdout",
          "text": [
            "{\"answer\": [\"8.0\", \"14.0\", \"20.0\", \"26.0\", \"32.0\"]}\n"
          ]
        }
      ]
    },
    {
      "cell_type": "code",
      "metadata": {
        "id": "6Jj-VNraelBW"
      },
      "source": [
        ""
      ],
      "id": "6Jj-VNraelBW",
      "execution_count": 4,
      "outputs": []
    }
  ]
}