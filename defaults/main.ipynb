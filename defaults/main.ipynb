{
  "nbformat": 4,
  "nbformat_minor": 5,
  "metadata": {
    "kernelspec": {
      "display_name": "Python 3",
      "language": "python",
      "name": "python3"
    },
    "language_info": {
      "codemirror_mode": {
        "name": "ipython",
        "version": 3
      },
      "file_extension": ".py",
      "mimetype": "text/x-python",
      "name": "python",
      "nbconvert_exporter": "python",
      "pygments_lexer": "ipython3",
      "version": "3.8.8"
    },
    "colab": {
      "name": "main.ipynb",
      "provenance": [],
      "collapsed_sections": []
    }
  },
  "cells": [
    {
      "cell_type": "code",
      "metadata": {
        "colab": {
          "base_uri": "https://localhost:8080/"
        },
        "id": "7kPHdFfMnpke",
        "outputId": "554f35df-b516-4ad6-99b6-17094b47c9d6"
      },
      "source": [
        "from google.colab import drive\n",
        "drive.mount('/drive')\n",
        "\n",
        "PATH = '/drive/My Drive/defaults/'"
      ],
      "id": "7kPHdFfMnpke",
      "execution_count": 1,
      "outputs": [
        {
          "output_type": "stream",
          "name": "stdout",
          "text": [
            "Drive already mounted at /drive; to attempt to forcibly remount, call drive.mount(\"/drive\", force_remount=True).\n"
          ]
        }
      ]
    },
    {
      "cell_type": "code",
      "metadata": {
        "id": "3b320bde-a012-45a1-950d-256439953bb8"
      },
      "source": [
        "import pandas as pd\n",
        "import numpy as np\n",
        "from datetime import datetime\n",
        "from sklearn.preprocessing import StandardScaler\n",
        "from sklearn.model_selection import train_test_split\n",
        "\n",
        "\n",
        "VAL_SIZE   = 0.20\n",
        "RANDOM_SEED = 42\n",
        "\n",
        "\n",
        "def getFeaturesInfo(df):\n",
        "    # num of unique values, first 10 unique values, null values count, type\n",
        "    df_agg = df.agg({'nunique', lambda s: s.unique()[:10]})\\\n",
        "        .append(pd.Series(df.isnull().sum(), name='null'))\\\n",
        "        .append(pd.Series(df.dtypes, name='dtype'))\\\n",
        "        .transpose()\n",
        "\n",
        "    return df_agg\n",
        "\n",
        "\n",
        "def SortFeatures(cols):\n",
        "    bin_cols = []\n",
        "    cat_cols = []\n",
        "    num_cols = []\n",
        "    \n",
        "    for col in cols:\n",
        "        if 'empty' in col:\n",
        "            bin_cols.append(col)\n",
        "        elif 'Category' in col or 'MONTH' in col:\n",
        "            cat_cols.append(col)\n",
        "        else:\n",
        "            num_cols.append(col)\n",
        "            \n",
        "    num_cols.remove('incident')\n",
        "    num_cols.remove('flg_90_12_add')\n",
        "    num_cols.remove('default')\n",
        "        \n",
        "    return bin_cols, cat_cols, num_cols\n",
        "\n",
        "\n",
        "def mape(y_true, y_pred):\n",
        "    return np.mean(np.abs((y_pred-y_true)/y_true))\n",
        "\n",
        "\n",
        "data = pd.read_csv(PATH+'data.csv')\n",
        "model = pd.read_csv(PATH+'model.csv')\n",
        "sample = pd.read_csv(PATH+'sample_submission.csv', header=None)\n",
        "\n",
        "data['default'] = model['PD']\n",
        "\n",
        "data.dropna(thresh=len(data)//2, axis=1, inplace=True)\n",
        "isna_cols = data.isna().sum()[data.isna().sum() > 0].index.tolist()\n",
        "\n",
        "for col in isna_cols:\n",
        "    if col == 'flg_90_12_add' or col == 'default':\n",
        "        pass\n",
        "    else:\n",
        "        new_col = col + '_empty'\n",
        "        data[new_col] = pd.isna(data[col]).astype('uint8')\n",
        "        data[col].fillna((data[col].median()), inplace=True)\n",
        "\n",
        "        \n",
        "features = getFeaturesInfo(data)\n",
        "columns = data.columns.tolist()\n",
        "\n",
        "bin_cols, cat_cols, num_cols = SortFeatures(columns)\n",
        "\n",
        "# dealing with outliers\n",
        "for col in num_cols:\n",
        "    median = data[col].median()\n",
        "    IQR = data[col].quantile(0.75) - data[col].quantile(0.25)\n",
        "    perc25 = data[col].quantile(0.25)\n",
        "    perc75 = data[col].quantile(0.75)\n",
        "    \n",
        "    # replace outliers with border-values\n",
        "    data[col] = np.where(data[col] > (perc75 + 1.5*IQR), (perc75 + 1.5*IQR), data[col])\n",
        "    data[col] = np.where(data[col] < (perc25 - 1.5*IQR), (perc25 - 1.5*IQR), data[col])\n",
        "    \n",
        "    \n",
        "data['APPLICATION_MONTH'] = data['APPLICATION_MONTH'].astype('category').cat.codes\n",
        "\n",
        "# exclude cols with multi-corr > 0.8 (no such cols btw)\n",
        "# data_temp = data[num_cols].head(10000).copy()\n",
        "# corr = data_temp.corr().abs()\n",
        "# upper_tri = corr.where(np.triu(np.ones(corr.shape), k=1).astype(np.bool))\n",
        "# high_corr_cols = [column for column in upper_tri.columns if any(upper_tri[column] > 0.8)]\n",
        "# num_cols = [x for x in num_cols if x not in high_corr_cols]\n",
        "# data.drop(high_corr_cols, axis=1, inplace=True)\n",
        "\n",
        "data['target'] = data['flg_90_12_add'] - data['default']\n",
        "data['target'] = np.abs(data['target'])\n",
        "data.drop(['flg_90_12_add', 'default'], axis=1, inplace=True)\n",
        "\n",
        "scaler = StandardScaler()\n",
        "data[num_cols] = scaler.fit_transform(data[num_cols].values)\n",
        "\n",
        "data = pd.get_dummies(data, prefix=cat_cols, columns=cat_cols)\n",
        "\n",
        "train = data[:81617]\n",
        "test = data[81617:]\n",
        "\n",
        "X = train.drop(['target'], axis=1)\n",
        "y = train['target']\n",
        "X_test = test.drop(['target'], axis=1)\n",
        "\n",
        "\n",
        "X_train, X_valid, y_train, y_valid = train_test_split(X,\n",
        "                                                      y,\n",
        "                                                      test_size=VAL_SIZE,\n",
        "                                                      shuffle=True,\n",
        "                                                      random_state=RANDOM_SEED)\n"
      ],
      "id": "3b320bde-a012-45a1-950d-256439953bb8",
      "execution_count": 2,
      "outputs": []
    },
    {
      "cell_type": "code",
      "metadata": {
        "colab": {
          "base_uri": "https://localhost:8080/"
        },
        "id": "aKZioHvw342T",
        "outputId": "ff8f7be9-2fa9-4f55-895b-7ac6c88c95ea"
      },
      "source": [
        "from catboost import CatBoostRegressor\n",
        "\n",
        "start = datetime.now()\n",
        "\n",
        "cb = CatBoostRegressor(iterations = 1000,\n",
        "                       learning_rate=0.1,\n",
        "                       random_seed = RANDOM_SEED,\n",
        "                       loss_function='RMSE',\n",
        "                       eval_metric='MAPE',\n",
        "                       custom_metric=['R2', 'MAE'],\n",
        "                       silent=True)\n",
        "\n",
        "cb.fit(X_train,\n",
        "      y_train,\n",
        "      eval_set=(X_valid, y_valid),\n",
        "      verbose_eval=0,\n",
        "      use_best_model=True)\n",
        "\n",
        "cb.save_model(PATH+'catboost_single_model_baseline.model')\n",
        "\n",
        "# Оцениваем точность\n",
        "predict_cb = cb.predict(X_valid)\n",
        "print('\\nВремя выполнения - ', datetime.now() - start)\n",
        "print(f\"Точность модели по метрике MAPE: {(mape(y_valid, predict_cb))*100:0.2f}%\")\n",
        "\n",
        "# MAPE = 63.54% / 1.5m\n",
        "# 156.15 minmax 152.43 standard\n",
        "# 142.15 on learning rate 0.1"
      ],
      "id": "aKZioHvw342T",
      "execution_count": 3,
      "outputs": [
        {
          "output_type": "stream",
          "name": "stdout",
          "text": [
            "\n",
            "Время выполнения -  0:03:33.182416\n",
            "Точность модели по метрике MAPE: 151.34%\n"
          ]
        }
      ]
    },
    {
      "cell_type": "code",
      "metadata": {
        "colab": {
          "base_uri": "https://localhost:8080/",
          "height": 203
        },
        "id": "97DNrTW5w0Y2",
        "outputId": "11868b24-7690-4df7-87a9-4883a044be04"
      },
      "source": [
        "# CB Regressor\n",
        "y_test = cb.predict(X_test)\n",
        "submission = pd.DataFrame(np.abs(y_test))\n",
        "submission.to_csv(PATH+'submission_cb.csv', index=False)\n",
        "# Open MAE 0.10216\n",
        "# Open MAE on all dataset 0.07792\n",
        "# with setup for CatBoost 0.07328\n",
        "\n",
        "submission.head()"
      ],
      "id": "97DNrTW5w0Y2",
      "execution_count": 4,
      "outputs": [
        {
          "output_type": "execute_result",
          "data": {
            "text/html": [
              "<div>\n",
              "<style scoped>\n",
              "    .dataframe tbody tr th:only-of-type {\n",
              "        vertical-align: middle;\n",
              "    }\n",
              "\n",
              "    .dataframe tbody tr th {\n",
              "        vertical-align: top;\n",
              "    }\n",
              "\n",
              "    .dataframe thead th {\n",
              "        text-align: right;\n",
              "    }\n",
              "</style>\n",
              "<table border=\"1\" class=\"dataframe\">\n",
              "  <thead>\n",
              "    <tr style=\"text-align: right;\">\n",
              "      <th></th>\n",
              "      <th>0</th>\n",
              "    </tr>\n",
              "  </thead>\n",
              "  <tbody>\n",
              "    <tr>\n",
              "      <th>0</th>\n",
              "      <td>0.007934</td>\n",
              "    </tr>\n",
              "    <tr>\n",
              "      <th>1</th>\n",
              "      <td>0.075160</td>\n",
              "    </tr>\n",
              "    <tr>\n",
              "      <th>2</th>\n",
              "      <td>0.028800</td>\n",
              "    </tr>\n",
              "    <tr>\n",
              "      <th>3</th>\n",
              "      <td>0.146813</td>\n",
              "    </tr>\n",
              "    <tr>\n",
              "      <th>4</th>\n",
              "      <td>0.086536</td>\n",
              "    </tr>\n",
              "  </tbody>\n",
              "</table>\n",
              "</div>"
            ],
            "text/plain": [
              "          0\n",
              "0  0.007934\n",
              "1  0.075160\n",
              "2  0.028800\n",
              "3  0.146813\n",
              "4  0.086536"
            ]
          },
          "metadata": {},
          "execution_count": 4
        }
      ]
    },
    {
      "cell_type": "code",
      "metadata": {
        "id": "2MPVp8OpaZIH"
      },
      "source": [
        ""
      ],
      "id": "2MPVp8OpaZIH",
      "execution_count": 4,
      "outputs": []
    }
  ]
}