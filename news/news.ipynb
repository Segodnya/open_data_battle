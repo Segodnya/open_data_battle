{
  "nbformat": 4,
  "nbformat_minor": 5,
  "metadata": {
    "kernelspec": {
      "display_name": "Python 3",
      "language": "python",
      "name": "python3"
    },
    "language_info": {
      "codemirror_mode": {
        "name": "ipython",
        "version": 3
      },
      "file_extension": ".py",
      "mimetype": "text/x-python",
      "name": "python",
      "nbconvert_exporter": "python",
      "pygments_lexer": "ipython3",
      "version": "3.8.8"
    },
    "colab": {
      "name": "news.ipynb",
      "provenance": [],
      "collapsed_sections": []
    }
  },
  "cells": [
    {
      "cell_type": "code",
      "metadata": {
        "colab": {
          "base_uri": "https://localhost:8080/",
          "height": 220
        },
        "id": "b1001bae-c0dc-42dd-b38c-977d870ae99b",
        "outputId": "d096be13-9754-463c-a3af-9024600c6396"
      },
      "source": [
        "from google.colab import drive\n",
        "drive.mount('/drive')\n",
        "PATH = '/drive/My Drive/news/'\n",
        "\n",
        "import pandas as pd\n",
        "import numpy as np\n",
        "import matplotlib.pyplot as plt\n",
        "\n",
        "from tensorflow.keras.preprocessing.text import Tokenizer\n",
        "from tensorflow.keras.models import Sequential, Model\n",
        "from tensorflow.keras.layers import Dense, Dropout, BatchNormalization\n",
        "\n",
        "\n",
        "dataset = pd.read_csv(PATH+'news.csv', index_col=0)\n",
        "dataset.head()"
      ],
      "id": "b1001bae-c0dc-42dd-b38c-977d870ae99b",
      "execution_count": 1,
      "outputs": [
        {
          "output_type": "stream",
          "name": "stdout",
          "text": [
            "Drive already mounted at /drive; to attempt to forcibly remount, call drive.mount(\"/drive\", force_remount=True).\n"
          ]
        },
        {
          "output_type": "execute_result",
          "data": {
            "text/html": [
              "<div>\n",
              "<style scoped>\n",
              "    .dataframe tbody tr th:only-of-type {\n",
              "        vertical-align: middle;\n",
              "    }\n",
              "\n",
              "    .dataframe tbody tr th {\n",
              "        vertical-align: top;\n",
              "    }\n",
              "\n",
              "    .dataframe thead th {\n",
              "        text-align: right;\n",
              "    }\n",
              "</style>\n",
              "<table border=\"1\" class=\"dataframe\">\n",
              "  <thead>\n",
              "    <tr style=\"text-align: right;\">\n",
              "      <th></th>\n",
              "      <th>news</th>\n",
              "      <th>source</th>\n",
              "    </tr>\n",
              "  </thead>\n",
              "  <tbody>\n",
              "    <tr>\n",
              "      <th>0</th>\n",
              "      <td>Официальный аккаунт PlayStation опубликовал т...</td>\n",
              "      <td>1.0</td>\n",
              "    </tr>\n",
              "    <tr>\n",
              "      <th>1</th>\n",
              "      <td>Китайская компания Mobvoi опубликовала на офи...</td>\n",
              "      <td>1.0</td>\n",
              "    </tr>\n",
              "    <tr>\n",
              "      <th>2</th>\n",
              "      <td>Практически во всех странах мира введены огра...</td>\n",
              "      <td>0.0</td>\n",
              "    </tr>\n",
              "    <tr>\n",
              "      <th>3</th>\n",
              "      <td>Депутат Госдумы, единоросс Антон Горелкин вне...</td>\n",
              "      <td>2.0</td>\n",
              "    </tr>\n",
              "    <tr>\n",
              "      <th>4</th>\n",
              "      <td>Совет директоров «Почты России» проголосовал ...</td>\n",
              "      <td>2.0</td>\n",
              "    </tr>\n",
              "  </tbody>\n",
              "</table>\n",
              "</div>"
            ],
            "text/plain": [
              "                                                news  source\n",
              "0   Официальный аккаунт PlayStation опубликовал т...     1.0\n",
              "1   Китайская компания Mobvoi опубликовала на офи...     1.0\n",
              "2   Практически во всех странах мира введены огра...     0.0\n",
              "3   Депутат Госдумы, единоросс Антон Горелкин вне...     2.0\n",
              "4   Совет директоров «Почты России» проголосовал ...     2.0"
            ]
          },
          "metadata": {},
          "execution_count": 1
        }
      ]
    },
    {
      "cell_type": "code",
      "metadata": {
        "colab": {
          "base_uri": "https://localhost:8080/"
        },
        "id": "d08c63b6-6045-4134-989c-838952107b27",
        "outputId": "a51518b6-82ff-4f0a-f612-24c06ad2819d"
      },
      "source": [
        "dataset.source.value_counts()"
      ],
      "id": "d08c63b6-6045-4134-989c-838952107b27",
      "execution_count": 2,
      "outputs": [
        {
          "output_type": "execute_result",
          "data": {
            "text/plain": [
              "1.0    11698\n",
              "0.0     3455\n",
              "2.0     3207\n",
              "Name: source, dtype: int64"
            ]
          },
          "metadata": {},
          "execution_count": 2
        }
      ]
    },
    {
      "cell_type": "code",
      "metadata": {
        "colab": {
          "base_uri": "https://localhost:8080/",
          "height": 417
        },
        "id": "sok8026Mibji",
        "outputId": "be3b5ad1-8a20-4e51-9d87-c4af7afda400"
      },
      "source": [
        "dataset[dataset.source.isna()]"
      ],
      "id": "sok8026Mibji",
      "execution_count": 3,
      "outputs": [
        {
          "output_type": "execute_result",
          "data": {
            "text/html": [
              "<div>\n",
              "<style scoped>\n",
              "    .dataframe tbody tr th:only-of-type {\n",
              "        vertical-align: middle;\n",
              "    }\n",
              "\n",
              "    .dataframe tbody tr th {\n",
              "        vertical-align: top;\n",
              "    }\n",
              "\n",
              "    .dataframe thead th {\n",
              "        text-align: right;\n",
              "    }\n",
              "</style>\n",
              "<table border=\"1\" class=\"dataframe\">\n",
              "  <thead>\n",
              "    <tr style=\"text-align: right;\">\n",
              "      <th></th>\n",
              "      <th>news</th>\n",
              "      <th>source</th>\n",
              "    </tr>\n",
              "  </thead>\n",
              "  <tbody>\n",
              "    <tr>\n",
              "      <th>18360</th>\n",
              "      <td>Глава форума Reddit Стив Хаффман раскритикова...</td>\n",
              "      <td>NaN</td>\n",
              "    </tr>\n",
              "    <tr>\n",
              "      <th>18361</th>\n",
              "      <td>Французское архитектурное бюро Vincent Calleb...</td>\n",
              "      <td>NaN</td>\n",
              "    </tr>\n",
              "    <tr>\n",
              "      <th>18362</th>\n",
              "      <td>Samsung провела мероприятие Galaxy Unpacked, ...</td>\n",
              "      <td>NaN</td>\n",
              "    </tr>\n",
              "    <tr>\n",
              "      <th>18363</th>\n",
              "      <td>В бета-версии клиента Telegram для Android с ...</td>\n",
              "      <td>NaN</td>\n",
              "    </tr>\n",
              "    <tr>\n",
              "      <th>18364</th>\n",
              "      <td>Журналистам из XDA удалось раздобыть минималь...</td>\n",
              "      <td>NaN</td>\n",
              "    </tr>\n",
              "    <tr>\n",
              "      <th>...</th>\n",
              "      <td>...</td>\n",
              "      <td>...</td>\n",
              "    </tr>\n",
              "    <tr>\n",
              "      <th>19457</th>\n",
              "      <td>С 17 декабря в России блокируется один из кру...</td>\n",
              "      <td>NaN</td>\n",
              "    </tr>\n",
              "    <tr>\n",
              "      <th>19458</th>\n",
              "      <td>Первые упоминания разработки тёмной темы в Go...</td>\n",
              "      <td>NaN</td>\n",
              "    </tr>\n",
              "    <tr>\n",
              "      <th>19459</th>\n",
              "      <td>Компания Oppo презентовала два новых продукта...</td>\n",
              "      <td>NaN</td>\n",
              "    </tr>\n",
              "    <tr>\n",
              "      <th>19460</th>\n",
              "      <td>Основой презентации стала Windows 10, которая...</td>\n",
              "      <td>NaN</td>\n",
              "    </tr>\n",
              "    <tr>\n",
              "      <th>19461</th>\n",
              "      <td>Компания INOI смогла реализовать 1,5 млн смар...</td>\n",
              "      <td>NaN</td>\n",
              "    </tr>\n",
              "  </tbody>\n",
              "</table>\n",
              "<p>1102 rows × 2 columns</p>\n",
              "</div>"
            ],
            "text/plain": [
              "                                                    news  source\n",
              "18360   Глава форума Reddit Стив Хаффман раскритикова...     NaN\n",
              "18361   Французское архитектурное бюро Vincent Calleb...     NaN\n",
              "18362   Samsung провела мероприятие Galaxy Unpacked, ...     NaN\n",
              "18363   В бета-версии клиента Telegram для Android с ...     NaN\n",
              "18364   Журналистам из XDA удалось раздобыть минималь...     NaN\n",
              "...                                                  ...     ...\n",
              "19457   С 17 декабря в России блокируется один из кру...     NaN\n",
              "19458   Первые упоминания разработки тёмной темы в Go...     NaN\n",
              "19459   Компания Oppo презентовала два новых продукта...     NaN\n",
              "19460   Основой презентации стала Windows 10, которая...     NaN\n",
              "19461   Компания INOI смогла реализовать 1,5 млн смар...     NaN\n",
              "\n",
              "[1102 rows x 2 columns]"
            ]
          },
          "metadata": {},
          "execution_count": 3
        }
      ]
    },
    {
      "cell_type": "code",
      "metadata": {
        "colab": {
          "base_uri": "https://localhost:8080/"
        },
        "id": "4dd14e53-4981-4871-aacb-bdfe5093c514",
        "outputId": "5cdcb404-a74d-4fa4-b7ed-22f10a36ca06"
      },
      "source": [
        "maxWordsCount = 20000\n",
        "\n",
        "# токенизируем на уровне символов\n",
        "tokenizer = Tokenizer(num_words=maxWordsCount)\n",
        "# формируем токены на основе частотности в нашем тексте\n",
        "tokenizer.fit_on_texts(dataset.news)\n",
        "\n",
        "num_characters = len(tokenizer.word_index)+1\n",
        "num_characters"
      ],
      "id": "4dd14e53-4981-4871-aacb-bdfe5093c514",
      "execution_count": 4,
      "outputs": [
        {
          "output_type": "execute_result",
          "data": {
            "text/plain": [
              "207042"
            ]
          },
          "metadata": {},
          "execution_count": 4
        }
      ]
    },
    {
      "cell_type": "code",
      "metadata": {
        "id": "nEWl6udfiGkH"
      },
      "source": [
        "# Обучающие тесты в индексы\n",
        "trainWordIndexes = tokenizer.texts_to_sequences(dataset[dataset.source.notna()].news)\n",
        "\n",
        "# Проверочные тесты в индексы\n",
        "testWordIndexes = tokenizer.texts_to_sequences(dataset[dataset.source.isna()].news)"
      ],
      "id": "nEWl6udfiGkH",
      "execution_count": 5,
      "outputs": []
    },
    {
      "cell_type": "code",
      "metadata": {
        "colab": {
          "base_uri": "https://localhost:8080/"
        },
        "id": "cdwaMlzliGZQ",
        "outputId": "dcaf9141-4ee0-4101-ea25-d3ac1ee1cf39"
      },
      "source": [
        "print(len(trainWordIndexes))\n",
        "print(len(trainWordIndexes[0]))"
      ],
      "id": "cdwaMlzliGZQ",
      "execution_count": 6,
      "outputs": [
        {
          "output_type": "stream",
          "name": "stdout",
          "text": [
            "18360\n",
            "65\n"
          ]
        }
      ]
    },
    {
      "cell_type": "code",
      "metadata": {
        "colab": {
          "base_uri": "https://localhost:8080/"
        },
        "id": "tLdG6MtniugR",
        "outputId": "d1f57171-b01b-4c64-860d-9b239dfe3100"
      },
      "source": [
        "x_train = tokenizer.sequences_to_matrix(trainWordIndexes)\n",
        "x_train.shape"
      ],
      "id": "tLdG6MtniugR",
      "execution_count": 7,
      "outputs": [
        {
          "output_type": "execute_result",
          "data": {
            "text/plain": [
              "(18360, 20000)"
            ]
          },
          "metadata": {},
          "execution_count": 7
        }
      ]
    },
    {
      "cell_type": "code",
      "metadata": {
        "colab": {
          "base_uri": "https://localhost:8080/"
        },
        "id": "TFggDgt-iub1",
        "outputId": "ff358a69-1269-4b1d-f054-651056856dd1"
      },
      "source": [
        "x_test = tokenizer.sequences_to_matrix(testWordIndexes)\n",
        "x_test.shape"
      ],
      "id": "TFggDgt-iub1",
      "execution_count": 8,
      "outputs": [
        {
          "output_type": "execute_result",
          "data": {
            "text/plain": [
              "(1102, 20000)"
            ]
          },
          "metadata": {},
          "execution_count": 8
        }
      ]
    },
    {
      "cell_type": "code",
      "metadata": {
        "colab": {
          "base_uri": "https://localhost:8080/"
        },
        "id": "mUj9GZlpiuYF",
        "outputId": "427ef858-cd37-4724-fb89-f04e23dcddb1"
      },
      "source": [
        "y_train = dataset[dataset.source.notna()].source\n",
        "y_train.shape"
      ],
      "id": "mUj9GZlpiuYF",
      "execution_count": 9,
      "outputs": [
        {
          "output_type": "execute_result",
          "data": {
            "text/plain": [
              "(18360,)"
            ]
          },
          "metadata": {},
          "execution_count": 9
        }
      ]
    },
    {
      "cell_type": "code",
      "metadata": {
        "colab": {
          "base_uri": "https://localhost:8080/",
          "height": 615
        },
        "id": "-gX2y7tciGSr",
        "outputId": "3795080a-c452-4556-8294-54b4803f8210"
      },
      "source": [
        "#Создаём полносвязную сеть\n",
        "model = Sequential()\n",
        "model.add(Dense(200, input_dim=x_test.shape[1], activation=\"relu\"))\n",
        "model.add(Dropout(0.3))\n",
        "model.add(BatchNormalization())\n",
        "model.add(Dense(3, activation='softmax'))\n",
        "\n",
        "model.compile(optimizer='adam', \n",
        "              loss='sparse_categorical_crossentropy', \n",
        "              metrics=['accuracy'])\n",
        "\n",
        "#Обучаем сеть на выборке, сформированной по bag of words - xTrain01\n",
        "history = model.fit(x_train, y_train, epochs=10, batch_size=128, validation_split=0.05)\n",
        "\n",
        "plt.plot(history.history['accuracy'], \n",
        "         label='Доля верных ответов на обучающем наборе')\n",
        "plt.plot(history.history['val_accuracy'], \n",
        "         label='Доля верных ответов на проверочном наборе')\n",
        "plt.xlabel('Эпоха обучения')\n",
        "plt.ylabel('Доля верных ответов')\n",
        "plt.legend()\n",
        "plt.show()"
      ],
      "id": "-gX2y7tciGSr",
      "execution_count": 10,
      "outputs": [
        {
          "output_type": "stream",
          "name": "stdout",
          "text": [
            "Epoch 1/10\n",
            "137/137 [==============================] - 9s 63ms/step - loss: 0.1055 - accuracy: 0.9644 - val_loss: 0.0775 - val_accuracy: 0.9771\n",
            "Epoch 2/10\n",
            "137/137 [==============================] - 8s 61ms/step - loss: 0.0062 - accuracy: 0.9991 - val_loss: 0.0498 - val_accuracy: 0.9847\n",
            "Epoch 3/10\n",
            "137/137 [==============================] - 8s 61ms/step - loss: 0.0017 - accuracy: 0.9999 - val_loss: 0.0406 - val_accuracy: 0.9891\n",
            "Epoch 4/10\n",
            "137/137 [==============================] - 8s 61ms/step - loss: 0.0010 - accuracy: 0.9999 - val_loss: 0.0391 - val_accuracy: 0.9891\n",
            "Epoch 5/10\n",
            "137/137 [==============================] - 8s 61ms/step - loss: 5.8634e-04 - accuracy: 0.9999 - val_loss: 0.0425 - val_accuracy: 0.9880\n",
            "Epoch 6/10\n",
            "137/137 [==============================] - 8s 61ms/step - loss: 6.0993e-04 - accuracy: 0.9999 - val_loss: 0.0343 - val_accuracy: 0.9902\n",
            "Epoch 7/10\n",
            "137/137 [==============================] - 8s 61ms/step - loss: 3.0182e-04 - accuracy: 1.0000 - val_loss: 0.0405 - val_accuracy: 0.9891\n",
            "Epoch 8/10\n",
            "137/137 [==============================] - 8s 61ms/step - loss: 2.3571e-04 - accuracy: 1.0000 - val_loss: 0.0394 - val_accuracy: 0.9891\n",
            "Epoch 9/10\n",
            "137/137 [==============================] - 8s 61ms/step - loss: 1.4871e-04 - accuracy: 1.0000 - val_loss: 0.0406 - val_accuracy: 0.9891\n",
            "Epoch 10/10\n",
            "137/137 [==============================] - 8s 61ms/step - loss: 1.2985e-04 - accuracy: 1.0000 - val_loss: 0.0410 - val_accuracy: 0.9891\n"
          ]
        },
        {
          "output_type": "display_data",
          "data": {
            "image/png": "[encoded data removed]",
            "text/plain": [
              "<Figure size 432x288 with 1 Axes>"
            ]
          },
          "metadata": {
            "needs_background": "light"
          }
        }
      ]
    },
    {
      "cell_type": "code",
      "metadata": {
        "colab": {
          "base_uri": "https://localhost:8080/"
        },
        "id": "0o8-7zbViGKv",
        "outputId": "78dde450-7468-4934-b255-623fae9f33c1"
      },
      "source": [
        "pred = model.predict(x_test)\n",
        "pred = np.argmax(pred, axis=1)\n",
        "pred"
      ],
      "id": "0o8-7zbViGKv",
      "execution_count": 11,
      "outputs": [
        {
          "output_type": "execute_result",
          "data": {
            "text/plain": [
              "array([0, 1, 1, ..., 1, 0, 1])"
            ]
          },
          "metadata": {},
          "execution_count": 11
        }
      ]
    },
    {
      "cell_type": "code",
      "metadata": {
        "colab": {
          "base_uri": "https://localhost:8080/",
          "height": 417
        },
        "id": "e1230c30-ac9f-4c8c-b919-f69442264be9",
        "outputId": "85640204-bea8-4999-ce13-73a9bac1ab92"
      },
      "source": [
        "result = dataset[dataset.source.isna()].drop(columns=['news'])\n",
        "result.source = pred\n",
        "result"
      ],
      "id": "e1230c30-ac9f-4c8c-b919-f69442264be9",
      "execution_count": 12,
      "outputs": [
        {
          "output_type": "execute_result",
          "data": {
            "text/html": [
              "<div>\n",
              "<style scoped>\n",
              "    .dataframe tbody tr th:only-of-type {\n",
              "        vertical-align: middle;\n",
              "    }\n",
              "\n",
              "    .dataframe tbody tr th {\n",
              "        vertical-align: top;\n",
              "    }\n",
              "\n",
              "    .dataframe thead th {\n",
              "        text-align: right;\n",
              "    }\n",
              "</style>\n",
              "<table border=\"1\" class=\"dataframe\">\n",
              "  <thead>\n",
              "    <tr style=\"text-align: right;\">\n",
              "      <th></th>\n",
              "      <th>source</th>\n",
              "    </tr>\n",
              "  </thead>\n",
              "  <tbody>\n",
              "    <tr>\n",
              "      <th>18360</th>\n",
              "      <td>0</td>\n",
              "    </tr>\n",
              "    <tr>\n",
              "      <th>18361</th>\n",
              "      <td>1</td>\n",
              "    </tr>\n",
              "    <tr>\n",
              "      <th>18362</th>\n",
              "      <td>1</td>\n",
              "    </tr>\n",
              "    <tr>\n",
              "      <th>18363</th>\n",
              "      <td>1</td>\n",
              "    </tr>\n",
              "    <tr>\n",
              "      <th>18364</th>\n",
              "      <td>1</td>\n",
              "    </tr>\n",
              "    <tr>\n",
              "      <th>...</th>\n",
              "      <td>...</td>\n",
              "    </tr>\n",
              "    <tr>\n",
              "      <th>19457</th>\n",
              "      <td>1</td>\n",
              "    </tr>\n",
              "    <tr>\n",
              "      <th>19458</th>\n",
              "      <td>1</td>\n",
              "    </tr>\n",
              "    <tr>\n",
              "      <th>19459</th>\n",
              "      <td>1</td>\n",
              "    </tr>\n",
              "    <tr>\n",
              "      <th>19460</th>\n",
              "      <td>0</td>\n",
              "    </tr>\n",
              "    <tr>\n",
              "      <th>19461</th>\n",
              "      <td>1</td>\n",
              "    </tr>\n",
              "  </tbody>\n",
              "</table>\n",
              "<p>1102 rows × 1 columns</p>\n",
              "</div>"
            ],
            "text/plain": [
              "       source\n",
              "18360       0\n",
              "18361       1\n",
              "18362       1\n",
              "18363       1\n",
              "18364       1\n",
              "...       ...\n",
              "19457       1\n",
              "19458       1\n",
              "19459       1\n",
              "19460       0\n",
              "19461       1\n",
              "\n",
              "[1102 rows x 1 columns]"
            ]
          },
          "metadata": {},
          "execution_count": 12
        }
      ]
    },
    {
      "cell_type": "code",
      "metadata": {
        "colab": {
          "base_uri": "https://localhost:8080/"
        },
        "id": "f5b1ca56-de0d-4dd6-b0ef-afc294e68113",
        "outputId": "e86d5277-b245-4a8b-e420-aa388ec0b171"
      },
      "source": [
        "result.source.value_counts()"
      ],
      "id": "f5b1ca56-de0d-4dd6-b0ef-afc294e68113",
      "execution_count": 13,
      "outputs": [
        {
          "output_type": "execute_result",
          "data": {
            "text/plain": [
              "1    706\n",
              "0    218\n",
              "2    178\n",
              "Name: source, dtype: int64"
            ]
          },
          "metadata": {},
          "execution_count": 13
        }
      ]
    },
    {
      "cell_type": "code",
      "metadata": {
        "id": "xRMmWsPLjhcU"
      },
      "source": [
        "result.to_csv(PATH+'submission.csv', header=False, index=False)"
      ],
      "id": "xRMmWsPLjhcU",
      "execution_count": 14,
      "outputs": []
    }
  ]
}