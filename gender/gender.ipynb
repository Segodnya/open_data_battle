{
 "cells": [
  {
   "cell_type": "code",
   "execution_count": 1,
   "id": "1da0f49b-7395-44a4-9d9e-8e0afb1b4865",
   "metadata": {},
   "outputs": [
    {
     "data": {
      "text/html": [
       "<div>\n",
       "<style scoped>\n",
       "    .dataframe tbody tr th:only-of-type {\n",
       "        vertical-align: middle;\n",
       "    }\n",
       "\n",
       "    .dataframe tbody tr th {\n",
       "        vertical-align: top;\n",
       "    }\n",
       "\n",
       "    .dataframe thead th {\n",
       "        text-align: right;\n",
       "    }\n",
       "</style>\n",
       "<table border=\"1\" class=\"dataframe\">\n",
       "  <thead>\n",
       "    <tr style=\"text-align: right;\">\n",
       "      <th></th>\n",
       "      <th>0</th>\n",
       "      <th>1</th>\n",
       "      <th>2</th>\n",
       "      <th>3</th>\n",
       "      <th>4</th>\n",
       "    </tr>\n",
       "  </thead>\n",
       "  <tbody>\n",
       "    <tr>\n",
       "      <th>index</th>\n",
       "      <td>0</td>\n",
       "      <td>1</td>\n",
       "      <td>2</td>\n",
       "      <td>3</td>\n",
       "      <td>4</td>\n",
       "    </tr>\n",
       "    <tr>\n",
       "      <th>long_hair</th>\n",
       "      <td>1</td>\n",
       "      <td>0</td>\n",
       "      <td>0</td>\n",
       "      <td>0</td>\n",
       "      <td>1</td>\n",
       "    </tr>\n",
       "    <tr>\n",
       "      <th>forehead_width_cm</th>\n",
       "      <td>11.8</td>\n",
       "      <td>14.0</td>\n",
       "      <td>11.8</td>\n",
       "      <td>14.4</td>\n",
       "      <td>13.5</td>\n",
       "    </tr>\n",
       "    <tr>\n",
       "      <th>forehead_height_cm</th>\n",
       "      <td>6.1</td>\n",
       "      <td>5.4</td>\n",
       "      <td>6.3</td>\n",
       "      <td>6.1</td>\n",
       "      <td>5.9</td>\n",
       "    </tr>\n",
       "    <tr>\n",
       "      <th>nose_wide</th>\n",
       "      <td>1</td>\n",
       "      <td>0</td>\n",
       "      <td>1</td>\n",
       "      <td>0</td>\n",
       "      <td>0</td>\n",
       "    </tr>\n",
       "    <tr>\n",
       "      <th>nose_long</th>\n",
       "      <td>0</td>\n",
       "      <td>0</td>\n",
       "      <td>1</td>\n",
       "      <td>1</td>\n",
       "      <td>0</td>\n",
       "    </tr>\n",
       "    <tr>\n",
       "      <th>lips_thin</th>\n",
       "      <td>1</td>\n",
       "      <td>1</td>\n",
       "      <td>1</td>\n",
       "      <td>1</td>\n",
       "      <td>0</td>\n",
       "    </tr>\n",
       "    <tr>\n",
       "      <th>distance_nose_to_lip_long</th>\n",
       "      <td>1</td>\n",
       "      <td>0</td>\n",
       "      <td>1</td>\n",
       "      <td>1</td>\n",
       "      <td>0</td>\n",
       "    </tr>\n",
       "    <tr>\n",
       "      <th>gender</th>\n",
       "      <td>NaN</td>\n",
       "      <td>NaN</td>\n",
       "      <td>NaN</td>\n",
       "      <td>NaN</td>\n",
       "      <td>NaN</td>\n",
       "    </tr>\n",
       "  </tbody>\n",
       "</table>\n",
       "</div>"
      ],
      "text/plain": [
       "                              0     1     2     3     4\n",
       "index                         0     1     2     3     4\n",
       "long_hair                     1     0     0     0     1\n",
       "forehead_width_cm          11.8  14.0  11.8  14.4  13.5\n",
       "forehead_height_cm          6.1   5.4   6.3   6.1   5.9\n",
       "nose_wide                     1     0     1     0     0\n",
       "nose_long                     0     0     1     1     0\n",
       "lips_thin                     1     1     1     1     0\n",
       "distance_nose_to_lip_long     1     0     1     1     0\n",
       "gender                      NaN   NaN   NaN   NaN   NaN"
      ]
     },
     "execution_count": 1,
     "metadata": {},
     "output_type": "execute_result"
    }
   ],
   "source": [
    "import pandas as pd\n",
    "from sklearn.model_selection import train_test_split, GridSearchCV\n",
    "from sklearn.ensemble import GradientBoostingClassifier\n",
    "from sklearn.metrics import accuracy_score, precision_score, recall_score, f1_score, roc_auc_score\n",
    "\n",
    "RANDOM_SEED = 42\n",
    "\n",
    "def show_metrics(y_test, y_pred, probs):\n",
    "    print('accuracy_score:\\t\\t {:.4}'.format(accuracy_score(y_test, y_pred)))\n",
    "    print('precision_score:\\t {:.4}'.format(precision_score(y_test, y_pred, zero_division=0)))\n",
    "    print('recall_score:\\t\\t {:.4}'.format(recall_score(y_test, y_pred, zero_division=0)))\n",
    "    print('f1_score:\\t\\t {:.4}'.format(f1_score(y_test, y_pred, zero_division=0)))\n",
    "    print('roc_auc_score:\\t\\t {:.4}'.format(roc_auc_score(y_test, probs)))\n",
    "    \n",
    "\n",
    "gender = pd.read_csv('gender.csv')\n",
    "gender.drop('Unnamed: 0', axis=1, inplace=True)\n",
    "\n",
    "# Присоединить дублирующие столбцы к основным.\n",
    "\n",
    "gender1 = gender[[\n",
    "                'index',\n",
    "                'long_hair',\n",
    "                'forehead_width_cm',\n",
    "                'forehead_height_cm',\n",
    "                'forehead_width_mm',\n",
    "                'forehead_width_conventional_units',\n",
    "                'nose_wide',\n",
    "                'nose_long',\n",
    "                'lips_thin',\n",
    "                'distance_nose_to_lip_long',\n",
    "                'gender'\n",
    "]]\n",
    "\n",
    "gender2 = gender[[\n",
    "                'index.1',\n",
    "                'long_hair.1',\n",
    "                'forehead_width_cm.1',\n",
    "                'forehead_height_cm.1',\n",
    "                'forehead_width_mm.1',\n",
    "                'forehead_width_conventional_units.1',\n",
    "                'nose_wide.1',\n",
    "                'nose_long.1',\n",
    "                'lips_thin.1',\n",
    "                'distance_nose_to_lip_long.1',\n",
    "                'gender.1'\n",
    "]]\n",
    "\n",
    "gender2.columns = [\n",
    "                'index',\n",
    "                'long_hair',\n",
    "                'forehead_width_cm',\n",
    "                'forehead_height_cm',\n",
    "                'forehead_width_mm',\n",
    "                'forehead_width_conventional_units',\n",
    "                'nose_wide',\n",
    "                'nose_long',\n",
    "                'lips_thin',\n",
    "                'distance_nose_to_lip_long',\n",
    "                'gender'\n",
    "]\n",
    "\n",
    "frames = [gender1, gender2]\n",
    "gender = pd.concat(frames, ignore_index=True)\n",
    "\n",
    "# Столбцы 'nose_wide', 'nose_long', 'lips_thin',\n",
    "#'distance_nose_to_lip_long', 'long_hair' содержат информацию\n",
    "# в условных единицах. Известно, что измерения проводились\n",
    "# разными людьми с разными измерительными инструментами,\n",
    "#поэтому данные в столбцах имеют разную погрешность измерений.\n",
    "# Необходимо уменьшить влияние погрешности путем приравнивания\n",
    "# значений диапазона [0,0.5) к 0, а [0.5, 1) —- к 1\n",
    "\n",
    "func = lambda x: 1 if x >= 0.5 else 0\n",
    "\n",
    "for col in [\n",
    "    'nose_wide', 'nose_long', 'lips_thin',\n",
    "    'distance_nose_to_lip_long', 'long_hair'\n",
    "]:\n",
    "    gender[col] = gender[col].apply(func)\n",
    "    \n",
    "    \n",
    "# Оставить один из дублирующих друг друга столбцов.\n",
    "gender.drop(['forehead_width_mm', 'forehead_width_conventional_units'],\n",
    "            axis=1, inplace=True)\n",
    "\n",
    "gender.head().T"
   ]
  },
  {
   "cell_type": "code",
   "execution_count": 2,
   "id": "57c2bbef-826a-41d5-a474-daee56668c29",
   "metadata": {},
   "outputs": [
    {
     "name": "stdout",
     "output_type": "stream",
     "text": [
      "<class 'pandas.core.frame.DataFrame'>\n",
      "RangeIndex: 5030 entries, 0 to 5029\n",
      "Data columns (total 9 columns):\n",
      " #   Column                     Non-Null Count  Dtype  \n",
      "---  ------                     --------------  -----  \n",
      " 0   index                      5030 non-null   int64  \n",
      " 1   long_hair                  5030 non-null   int64  \n",
      " 2   forehead_width_cm          5001 non-null   float64\n",
      " 3   forehead_height_cm         5001 non-null   float64\n",
      " 4   nose_wide                  5030 non-null   int64  \n",
      " 5   nose_long                  5030 non-null   int64  \n",
      " 6   lips_thin                  5030 non-null   int64  \n",
      " 7   distance_nose_to_lip_long  5030 non-null   int64  \n",
      " 8   gender                     4000 non-null   object \n",
      "dtypes: float64(2), int64(6), object(1)\n",
      "memory usage: 353.8+ KB\n"
     ]
    }
   ],
   "source": [
    "gender.info()"
   ]
  },
  {
   "cell_type": "code",
   "execution_count": 3,
   "id": "318f9ae8-da1a-4c13-a87c-c2f271bbb0d9",
   "metadata": {},
   "outputs": [
    {
     "name": "stderr",
     "output_type": "stream",
     "text": [
      "<ipython-input-3-bf137a53cb20>:5: SettingWithCopyWarning: \n",
      "A value is trying to be set on a copy of a slice from a DataFrame.\n",
      "Try using .loc[row_indexer,col_indexer] = value instead\n",
      "\n",
      "See the caveats in the documentation: https://pandas.pydata.org/pandas-docs/stable/user_guide/indexing.html#returning-a-view-versus-a-copy\n",
      "  train['gender'] = train['gender'].apply(mask)\n"
     ]
    }
   ],
   "source": [
    "train = gender[gender['gender'].isna() == False]\n",
    "test = gender[gender['gender'].isna() == True]\n",
    "\n",
    "mask = lambda x: 1 if x == 'Female' else 0\n",
    "train['gender'] = train['gender'].apply(mask)"
   ]
  },
  {
   "cell_type": "code",
   "execution_count": 4,
   "id": "e25c2947-b670-4a80-a0ab-3ea073588e64",
   "metadata": {},
   "outputs": [
    {
     "data": {
      "text/plain": [
       "1    2006\n",
       "0    1994\n",
       "Name: gender, dtype: int64"
      ]
     },
     "execution_count": 4,
     "metadata": {},
     "output_type": "execute_result"
    }
   ],
   "source": [
    "train.gender.value_counts()"
   ]
  },
  {
   "cell_type": "markdown",
   "id": "03cb8dad-33a1-46cd-9877-3ce126fe98f8",
   "metadata": {},
   "source": [
    "Определите пол по остальным параметрам из выборки для первой тысячи значений и прикрепите его в CSV формате. Файл должен содержать только прогнозные значения в формате \"Male\"/\"Female\", в одном столбце без заголовка\n",
    "\n",
    "Пороговое значение для данной задачи классификации считать равным 0.5.\n",
    "\n",
    "Для успешного прохождения достаточно иметь 70% точность решения"
   ]
  },
  {
   "cell_type": "code",
   "execution_count": 5,
   "id": "c73ce89d-6dd1-4182-a089-ae3c5253c100",
   "metadata": {},
   "outputs": [
    {
     "name": "stdout",
     "output_type": "stream",
     "text": [
      "accuracy_score:\t\t 0.9812\n",
      "precision_score:\t 0.9726\n",
      "recall_score:\t\t 0.9899\n",
      "f1_score:\t\t 0.9812\n",
      "roc_auc_score:\t\t 0.9974\n"
     ]
    }
   ],
   "source": [
    "X = train.drop(['gender'], axis=1).values\n",
    "y = train['gender'].values\n",
    "\n",
    "X_train, X_valid, y_train, y_valid = train_test_split(\n",
    "    X, y, test_size=0.20, random_state=RANDOM_SEED)\n",
    "\n",
    "gbc = GradientBoostingClassifier(learning_rate=0.01,\n",
    "                                 max_depth=3,\n",
    "                                 n_estimators=500)\n",
    "\n",
    "gbc.fit(X_train, y_train)\n",
    "\n",
    "y_pred = gbc.predict(X_valid)\n",
    "probs = gbc.predict_proba(X_valid)\n",
    "probs = probs[:,1]\n",
    "\n",
    "show_metrics(y_valid, y_pred, probs)"
   ]
  },
  {
   "cell_type": "code",
   "execution_count": 6,
   "id": "2e4cb664-2490-4ea5-b157-b6d99bbb48cf",
   "metadata": {},
   "outputs": [
    {
     "name": "stderr",
     "output_type": "stream",
     "text": [
      "<ipython-input-6-4591bbdf3d4c>:1: SettingWithCopyWarning: \n",
      "A value is trying to be set on a copy of a slice from a DataFrame\n",
      "\n",
      "See the caveats in the documentation: https://pandas.pydata.org/pandas-docs/stable/user_guide/indexing.html#returning-a-view-versus-a-copy\n",
      "  test.dropna(subset=['forehead_height_cm'], inplace=True)\n"
     ]
    }
   ],
   "source": [
    "test.dropna(subset=['forehead_height_cm'], inplace=True)\n"
   ]
  },
  {
   "cell_type": "code",
   "execution_count": 7,
   "id": "979dea9f-7569-4f05-afa8-f7c54a132515",
   "metadata": {},
   "outputs": [
    {
     "data": {
      "text/html": [
       "<div>\n",
       "<style scoped>\n",
       "    .dataframe tbody tr th:only-of-type {\n",
       "        vertical-align: middle;\n",
       "    }\n",
       "\n",
       "    .dataframe tbody tr th {\n",
       "        vertical-align: top;\n",
       "    }\n",
       "\n",
       "    .dataframe thead th {\n",
       "        text-align: right;\n",
       "    }\n",
       "</style>\n",
       "<table border=\"1\" class=\"dataframe\">\n",
       "  <thead>\n",
       "    <tr style=\"text-align: right;\">\n",
       "      <th></th>\n",
       "      <th>0</th>\n",
       "    </tr>\n",
       "  </thead>\n",
       "  <tbody>\n",
       "    <tr>\n",
       "      <th>0</th>\n",
       "      <td>Male</td>\n",
       "    </tr>\n",
       "    <tr>\n",
       "      <th>1</th>\n",
       "      <td>Female</td>\n",
       "    </tr>\n",
       "    <tr>\n",
       "      <th>2</th>\n",
       "      <td>Male</td>\n",
       "    </tr>\n",
       "    <tr>\n",
       "      <th>3</th>\n",
       "      <td>Male</td>\n",
       "    </tr>\n",
       "    <tr>\n",
       "      <th>4</th>\n",
       "      <td>Female</td>\n",
       "    </tr>\n",
       "    <tr>\n",
       "      <th>...</th>\n",
       "      <td>...</td>\n",
       "    </tr>\n",
       "    <tr>\n",
       "      <th>996</th>\n",
       "      <td>Female</td>\n",
       "    </tr>\n",
       "    <tr>\n",
       "      <th>997</th>\n",
       "      <td>Female</td>\n",
       "    </tr>\n",
       "    <tr>\n",
       "      <th>998</th>\n",
       "      <td>Male</td>\n",
       "    </tr>\n",
       "    <tr>\n",
       "      <th>999</th>\n",
       "      <td>Male</td>\n",
       "    </tr>\n",
       "    <tr>\n",
       "      <th>1000</th>\n",
       "      <td>Male</td>\n",
       "    </tr>\n",
       "  </tbody>\n",
       "</table>\n",
       "<p>1001 rows × 1 columns</p>\n",
       "</div>"
      ],
      "text/plain": [
       "           0\n",
       "0       Male\n",
       "1     Female\n",
       "2       Male\n",
       "3       Male\n",
       "4     Female\n",
       "...      ...\n",
       "996   Female\n",
       "997   Female\n",
       "998     Male\n",
       "999     Male\n",
       "1000    Male\n",
       "\n",
       "[1001 rows x 1 columns]"
      ]
     },
     "execution_count": 7,
     "metadata": {},
     "output_type": "execute_result"
    }
   ],
   "source": [
    "X_test = test.drop(['gender'], axis=1).values\n",
    "y_pred = gbc.predict_proba(X_test)\n",
    "y_pred = y_pred[:,1]\n",
    "\n",
    "\n",
    "result = pd.DataFrame(y_pred, )\n",
    "classes = lambda x: 'Female' if x >= 0.5 else 'Male'\n",
    "result[0] = result[0].apply(classes)\n",
    "# result = result[:1000]\n",
    "result"
   ]
  },
  {
   "cell_type": "code",
   "execution_count": 8,
   "id": "5159f005-8d94-4dab-8f09-b70fc9b0b48a",
   "metadata": {},
   "outputs": [],
   "source": [
    "result.to_csv('submission.csv', index=False)"
   ]
  },
  {
   "cell_type": "code",
   "execution_count": 9,
   "id": "3bf22633-de50-4a2a-b296-ea54cec64204",
   "metadata": {},
   "outputs": [
    {
     "data": {
      "text/plain": [
       "Female    516\n",
       "Male      485\n",
       "dtype: int64"
      ]
     },
     "execution_count": 9,
     "metadata": {},
     "output_type": "execute_result"
    }
   ],
   "source": [
    "result.value_counts()"
   ]
  },
  {
   "cell_type": "code",
   "execution_count": null,
   "id": "1c4906a4-ef82-46c3-84b3-0f4800b3b06a",
   "metadata": {},
   "outputs": [],
   "source": []
  }
 ],
 "metadata": {
  "kernelspec": {
   "display_name": "Python 3",
   "language": "python",
   "name": "python3"
  },
  "language_info": {
   "codemirror_mode": {
    "name": "ipython",
    "version": 3
   },
   "file_extension": ".py",
   "mimetype": "text/x-python",
   "name": "python",
   "nbconvert_exporter": "python",
   "pygments_lexer": "ipython3",
   "version": "3.8.8"
  }
 },
 "nbformat": 4,
 "nbformat_minor": 5
}
