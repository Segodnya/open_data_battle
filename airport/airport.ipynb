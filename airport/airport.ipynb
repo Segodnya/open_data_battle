{
 "cells": [
  {
   "cell_type": "code",
   "execution_count": 66,
   "id": "2c2c6662-934b-45e0-b02c-1c3fd4d6a705",
   "metadata": {},
   "outputs": [
    {
     "name": "stdout",
     "output_type": "stream",
     "text": [
      "[4694.86964882 4866.81212645 4565.9127906  4909.79774586 4823.82650704\n",
      " 4780.84088764 4608.89841001 5038.75460408 4995.76898467 4952.78336527\n",
      " 4651.88402942 4980.2974773 ]\n"
     ]
    }
   ],
   "source": [
    "import pandas as pd\n",
    "import json\n",
    "from sklearn.model_selection import train_test_split\n",
    "from sklearn.linear_model import LinearRegression\n",
    "\n",
    "VAL_SIZE = 0.2\n",
    "RANDOM_SEED = 42\n",
    "\n",
    "\n",
    "airport = pd.read_csv('Science.csv')\n",
    "train = airport[:145]\n",
    "test = airport[145:]\n",
    "\n",
    "\n",
    "X = train[['Year', 'Month']].values\n",
    "y = train['Passengers']\n",
    "\n",
    "X_test = test[['Year', 'Month']].values\n",
    "\n",
    "\n",
    "X_train, X_valid, y_train, y_valid = train_test_split(X,\n",
    "                                                      y,\n",
    "                                                      test_size=VAL_SIZE, shuffle=True,\n",
    "                                                      random_state=RANDOM_SEED)\n",
    "\n",
    "reg = LinearRegression().fit(X, y)\n",
    "y_pred = reg.predict(X_test)\n",
    "\n",
    "print(y_pred)"
   ]
  }
 ],
 "metadata": {
  "kernelspec": {
   "display_name": "Python 3",
   "language": "python",
   "name": "python3"
  },
  "language_info": {
   "codemirror_mode": {
    "name": "ipython",
    "version": 3
   },
   "file_extension": ".py",
   "mimetype": "text/x-python",
   "name": "python",
   "nbconvert_exporter": "python",
   "pygments_lexer": "ipython3",
   "version": "3.8.8"
  }
 },
 "nbformat": 4,
 "nbformat_minor": 5
}
